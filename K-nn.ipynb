{
 "cells": [
  {
   "cell_type": "code",
   "execution_count": 2,
   "id": "5dd893de-6525-40c2-b7e8-b12097b67039",
   "metadata": {},
   "outputs": [],
   "source": [
    "import numpy as np\n",
    "import pandas as pd\n",
    "import matplotlib.pyplot as plt\n",
    "import seaborn as sns"
   ]
  },
  {
   "cell_type": "markdown",
   "id": "7f6b9d88-7e27-420b-8974-62db1a49865f",
   "metadata": {},
   "source": [
    "Loading and Cleaning Data."
   ]
  },
  {
   "cell_type": "code",
   "execution_count": 3,
   "id": "df634635-8df7-48b9-9c9d-3095ccc15445",
   "metadata": {},
   "outputs": [],
   "source": [
    "df = pd.read_csv(\"C:\\\\Users\\\\LOQ\\\\Downloads\\\\Titanic-Dataset.csv\")"
   ]
  },
  {
   "cell_type": "code",
   "execution_count": 4,
   "id": "220c9e3b-6d92-472b-a6fd-f4797d9c2755",
   "metadata": {},
   "outputs": [
    {
     "data": {
      "text/html": [
       "<div>\n",
       "<style scoped>\n",
       "    .dataframe tbody tr th:only-of-type {\n",
       "        vertical-align: middle;\n",
       "    }\n",
       "\n",
       "    .dataframe tbody tr th {\n",
       "        vertical-align: top;\n",
       "    }\n",
       "\n",
       "    .dataframe thead th {\n",
       "        text-align: right;\n",
       "    }\n",
       "</style>\n",
       "<table border=\"1\" class=\"dataframe\">\n",
       "  <thead>\n",
       "    <tr style=\"text-align: right;\">\n",
       "      <th></th>\n",
       "      <th>PassengerId</th>\n",
       "      <th>Survived</th>\n",
       "      <th>Pclass</th>\n",
       "      <th>Name</th>\n",
       "      <th>Sex</th>\n",
       "      <th>Age</th>\n",
       "      <th>SibSp</th>\n",
       "      <th>Parch</th>\n",
       "      <th>Ticket</th>\n",
       "      <th>Fare</th>\n",
       "      <th>Cabin</th>\n",
       "      <th>Embarked</th>\n",
       "    </tr>\n",
       "  </thead>\n",
       "  <tbody>\n",
       "    <tr>\n",
       "      <th>0</th>\n",
       "      <td>1</td>\n",
       "      <td>0</td>\n",
       "      <td>3</td>\n",
       "      <td>Braund, Mr. Owen Harris</td>\n",
       "      <td>male</td>\n",
       "      <td>22.0</td>\n",
       "      <td>1</td>\n",
       "      <td>0</td>\n",
       "      <td>A/5 21171</td>\n",
       "      <td>7.2500</td>\n",
       "      <td>NaN</td>\n",
       "      <td>S</td>\n",
       "    </tr>\n",
       "    <tr>\n",
       "      <th>1</th>\n",
       "      <td>2</td>\n",
       "      <td>1</td>\n",
       "      <td>1</td>\n",
       "      <td>Cumings, Mrs. John Bradley (Florence Briggs Th...</td>\n",
       "      <td>female</td>\n",
       "      <td>38.0</td>\n",
       "      <td>1</td>\n",
       "      <td>0</td>\n",
       "      <td>PC 17599</td>\n",
       "      <td>71.2833</td>\n",
       "      <td>C85</td>\n",
       "      <td>C</td>\n",
       "    </tr>\n",
       "    <tr>\n",
       "      <th>2</th>\n",
       "      <td>3</td>\n",
       "      <td>1</td>\n",
       "      <td>3</td>\n",
       "      <td>Heikkinen, Miss. Laina</td>\n",
       "      <td>female</td>\n",
       "      <td>26.0</td>\n",
       "      <td>0</td>\n",
       "      <td>0</td>\n",
       "      <td>STON/O2. 3101282</td>\n",
       "      <td>7.9250</td>\n",
       "      <td>NaN</td>\n",
       "      <td>S</td>\n",
       "    </tr>\n",
       "    <tr>\n",
       "      <th>3</th>\n",
       "      <td>4</td>\n",
       "      <td>1</td>\n",
       "      <td>1</td>\n",
       "      <td>Futrelle, Mrs. Jacques Heath (Lily May Peel)</td>\n",
       "      <td>female</td>\n",
       "      <td>35.0</td>\n",
       "      <td>1</td>\n",
       "      <td>0</td>\n",
       "      <td>113803</td>\n",
       "      <td>53.1000</td>\n",
       "      <td>C123</td>\n",
       "      <td>S</td>\n",
       "    </tr>\n",
       "    <tr>\n",
       "      <th>4</th>\n",
       "      <td>5</td>\n",
       "      <td>0</td>\n",
       "      <td>3</td>\n",
       "      <td>Allen, Mr. William Henry</td>\n",
       "      <td>male</td>\n",
       "      <td>35.0</td>\n",
       "      <td>0</td>\n",
       "      <td>0</td>\n",
       "      <td>373450</td>\n",
       "      <td>8.0500</td>\n",
       "      <td>NaN</td>\n",
       "      <td>S</td>\n",
       "    </tr>\n",
       "  </tbody>\n",
       "</table>\n",
       "</div>"
      ],
      "text/plain": [
       "   PassengerId  Survived  Pclass  \\\n",
       "0            1         0       3   \n",
       "1            2         1       1   \n",
       "2            3         1       3   \n",
       "3            4         1       1   \n",
       "4            5         0       3   \n",
       "\n",
       "                                                Name     Sex   Age  SibSp  \\\n",
       "0                            Braund, Mr. Owen Harris    male  22.0      1   \n",
       "1  Cumings, Mrs. John Bradley (Florence Briggs Th...  female  38.0      1   \n",
       "2                             Heikkinen, Miss. Laina  female  26.0      0   \n",
       "3       Futrelle, Mrs. Jacques Heath (Lily May Peel)  female  35.0      1   \n",
       "4                           Allen, Mr. William Henry    male  35.0      0   \n",
       "\n",
       "   Parch            Ticket     Fare Cabin Embarked  \n",
       "0      0         A/5 21171   7.2500   NaN        S  \n",
       "1      0          PC 17599  71.2833   C85        C  \n",
       "2      0  STON/O2. 3101282   7.9250   NaN        S  \n",
       "3      0            113803  53.1000  C123        S  \n",
       "4      0            373450   8.0500   NaN        S  "
      ]
     },
     "execution_count": 4,
     "metadata": {},
     "output_type": "execute_result"
    }
   ],
   "source": [
    "df.head()"
   ]
  },
  {
   "cell_type": "code",
   "execution_count": 5,
   "id": "c3dc0533-33ef-421f-bd5b-89a6ffbab256",
   "metadata": {},
   "outputs": [
    {
     "name": "stdout",
     "output_type": "stream",
     "text": [
      "<class 'pandas.core.frame.DataFrame'>\n",
      "RangeIndex: 891 entries, 0 to 890\n",
      "Data columns (total 12 columns):\n",
      " #   Column       Non-Null Count  Dtype  \n",
      "---  ------       --------------  -----  \n",
      " 0   PassengerId  891 non-null    int64  \n",
      " 1   Survived     891 non-null    int64  \n",
      " 2   Pclass       891 non-null    int64  \n",
      " 3   Name         891 non-null    object \n",
      " 4   Sex          891 non-null    object \n",
      " 5   Age          714 non-null    float64\n",
      " 6   SibSp        891 non-null    int64  \n",
      " 7   Parch        891 non-null    int64  \n",
      " 8   Ticket       891 non-null    object \n",
      " 9   Fare         891 non-null    float64\n",
      " 10  Cabin        204 non-null    object \n",
      " 11  Embarked     889 non-null    object \n",
      "dtypes: float64(2), int64(5), object(5)\n",
      "memory usage: 83.7+ KB\n"
     ]
    }
   ],
   "source": [
    "df.info()"
   ]
  },
  {
   "cell_type": "code",
   "execution_count": 7,
   "id": "d5729997-18eb-4fda-b577-c9547f0ce86e",
   "metadata": {},
   "outputs": [
    {
     "data": {
      "text/plain": [
       "(891, 12)"
      ]
     },
     "execution_count": 7,
     "metadata": {},
     "output_type": "execute_result"
    }
   ],
   "source": [
    "df.shape"
   ]
  },
  {
   "cell_type": "code",
   "execution_count": 5,
   "id": "eeadb286-b8cf-4d7e-80a3-422e66e72d2c",
   "metadata": {},
   "outputs": [
    {
     "data": {
      "text/plain": [
       "PassengerId     0.000000\n",
       "Survived        0.000000\n",
       "Pclass          0.000000\n",
       "Name            0.000000\n",
       "Sex             0.000000\n",
       "Age            19.865320\n",
       "SibSp           0.000000\n",
       "Parch           0.000000\n",
       "Ticket          0.000000\n",
       "Fare            0.000000\n",
       "Cabin          77.104377\n",
       "Embarked        0.224467\n",
       "dtype: float64"
      ]
     },
     "execution_count": 5,
     "metadata": {},
     "output_type": "execute_result"
    }
   ],
   "source": [
    "missing_values = (df.isnull().sum()/len(df))*100\n",
    "missing_values"
   ]
  },
  {
   "cell_type": "code",
   "execution_count": 6,
   "id": "bfd4a798-1894-4374-acd5-f45b772b7232",
   "metadata": {},
   "outputs": [
    {
     "data": {
      "text/plain": [
       "Index(['Name', 'Sex', 'Ticket', 'Cabin', 'Embarked'], dtype='object')"
      ]
     },
     "execution_count": 6,
     "metadata": {},
     "output_type": "execute_result"
    }
   ],
   "source": [
    "# Drop all categorical columns except ’Survived’\n",
    "categorial_column = df.select_dtypes(include=['object']).columns\n",
    "categorial_column"
   ]
  },
  {
   "cell_type": "code",
   "execution_count": 7,
   "id": "bcb3f069-1729-40b4-b524-04204dc84655",
   "metadata": {},
   "outputs": [],
   "source": [
    "df = df.drop(columns=[col for col in categorial_column if col !=\"Survived\"])"
   ]
  },
  {
   "cell_type": "code",
   "execution_count": 8,
   "id": "409ae9dd-bd60-438b-b58d-e5f9ce433a0c",
   "metadata": {},
   "outputs": [
    {
     "data": {
      "text/html": [
       "<div>\n",
       "<style scoped>\n",
       "    .dataframe tbody tr th:only-of-type {\n",
       "        vertical-align: middle;\n",
       "    }\n",
       "\n",
       "    .dataframe tbody tr th {\n",
       "        vertical-align: top;\n",
       "    }\n",
       "\n",
       "    .dataframe thead th {\n",
       "        text-align: right;\n",
       "    }\n",
       "</style>\n",
       "<table border=\"1\" class=\"dataframe\">\n",
       "  <thead>\n",
       "    <tr style=\"text-align: right;\">\n",
       "      <th></th>\n",
       "      <th>PassengerId</th>\n",
       "      <th>Survived</th>\n",
       "      <th>Pclass</th>\n",
       "      <th>Age</th>\n",
       "      <th>SibSp</th>\n",
       "      <th>Parch</th>\n",
       "      <th>Fare</th>\n",
       "    </tr>\n",
       "  </thead>\n",
       "  <tbody>\n",
       "    <tr>\n",
       "      <th>0</th>\n",
       "      <td>1</td>\n",
       "      <td>0</td>\n",
       "      <td>3</td>\n",
       "      <td>22.0</td>\n",
       "      <td>1</td>\n",
       "      <td>0</td>\n",
       "      <td>7.2500</td>\n",
       "    </tr>\n",
       "    <tr>\n",
       "      <th>1</th>\n",
       "      <td>2</td>\n",
       "      <td>1</td>\n",
       "      <td>1</td>\n",
       "      <td>38.0</td>\n",
       "      <td>1</td>\n",
       "      <td>0</td>\n",
       "      <td>71.2833</td>\n",
       "    </tr>\n",
       "    <tr>\n",
       "      <th>2</th>\n",
       "      <td>3</td>\n",
       "      <td>1</td>\n",
       "      <td>3</td>\n",
       "      <td>26.0</td>\n",
       "      <td>0</td>\n",
       "      <td>0</td>\n",
       "      <td>7.9250</td>\n",
       "    </tr>\n",
       "    <tr>\n",
       "      <th>3</th>\n",
       "      <td>4</td>\n",
       "      <td>1</td>\n",
       "      <td>1</td>\n",
       "      <td>35.0</td>\n",
       "      <td>1</td>\n",
       "      <td>0</td>\n",
       "      <td>53.1000</td>\n",
       "    </tr>\n",
       "    <tr>\n",
       "      <th>4</th>\n",
       "      <td>5</td>\n",
       "      <td>0</td>\n",
       "      <td>3</td>\n",
       "      <td>35.0</td>\n",
       "      <td>0</td>\n",
       "      <td>0</td>\n",
       "      <td>8.0500</td>\n",
       "    </tr>\n",
       "    <tr>\n",
       "      <th>...</th>\n",
       "      <td>...</td>\n",
       "      <td>...</td>\n",
       "      <td>...</td>\n",
       "      <td>...</td>\n",
       "      <td>...</td>\n",
       "      <td>...</td>\n",
       "      <td>...</td>\n",
       "    </tr>\n",
       "    <tr>\n",
       "      <th>886</th>\n",
       "      <td>887</td>\n",
       "      <td>0</td>\n",
       "      <td>2</td>\n",
       "      <td>27.0</td>\n",
       "      <td>0</td>\n",
       "      <td>0</td>\n",
       "      <td>13.0000</td>\n",
       "    </tr>\n",
       "    <tr>\n",
       "      <th>887</th>\n",
       "      <td>888</td>\n",
       "      <td>1</td>\n",
       "      <td>1</td>\n",
       "      <td>19.0</td>\n",
       "      <td>0</td>\n",
       "      <td>0</td>\n",
       "      <td>30.0000</td>\n",
       "    </tr>\n",
       "    <tr>\n",
       "      <th>888</th>\n",
       "      <td>889</td>\n",
       "      <td>0</td>\n",
       "      <td>3</td>\n",
       "      <td>NaN</td>\n",
       "      <td>1</td>\n",
       "      <td>2</td>\n",
       "      <td>23.4500</td>\n",
       "    </tr>\n",
       "    <tr>\n",
       "      <th>889</th>\n",
       "      <td>890</td>\n",
       "      <td>1</td>\n",
       "      <td>1</td>\n",
       "      <td>26.0</td>\n",
       "      <td>0</td>\n",
       "      <td>0</td>\n",
       "      <td>30.0000</td>\n",
       "    </tr>\n",
       "    <tr>\n",
       "      <th>890</th>\n",
       "      <td>891</td>\n",
       "      <td>0</td>\n",
       "      <td>3</td>\n",
       "      <td>32.0</td>\n",
       "      <td>0</td>\n",
       "      <td>0</td>\n",
       "      <td>7.7500</td>\n",
       "    </tr>\n",
       "  </tbody>\n",
       "</table>\n",
       "<p>891 rows × 7 columns</p>\n",
       "</div>"
      ],
      "text/plain": [
       "     PassengerId  Survived  Pclass   Age  SibSp  Parch     Fare\n",
       "0              1         0       3  22.0      1      0   7.2500\n",
       "1              2         1       1  38.0      1      0  71.2833\n",
       "2              3         1       3  26.0      0      0   7.9250\n",
       "3              4         1       1  35.0      1      0  53.1000\n",
       "4              5         0       3  35.0      0      0   8.0500\n",
       "..           ...       ...     ...   ...    ...    ...      ...\n",
       "886          887         0       2  27.0      0      0  13.0000\n",
       "887          888         1       1  19.0      0      0  30.0000\n",
       "888          889         0       3   NaN      1      2  23.4500\n",
       "889          890         1       1  26.0      0      0  30.0000\n",
       "890          891         0       3  32.0      0      0   7.7500\n",
       "\n",
       "[891 rows x 7 columns]"
      ]
     },
     "execution_count": 8,
     "metadata": {},
     "output_type": "execute_result"
    }
   ],
   "source": [
    "df"
   ]
  },
  {
   "cell_type": "code",
   "execution_count": 9,
   "id": "933e6e84-5c14-4738-b865-961502f52b12",
   "metadata": {},
   "outputs": [
    {
     "data": {
      "text/plain": [
       "PassengerId     0.00000\n",
       "Survived        0.00000\n",
       "Pclass          0.00000\n",
       "Age            19.86532\n",
       "SibSp           0.00000\n",
       "Parch           0.00000\n",
       "Fare            0.00000\n",
       "dtype: float64"
      ]
     },
     "execution_count": 9,
     "metadata": {},
     "output_type": "execute_result"
    }
   ],
   "source": [
    "missing_values = (df.isnull().sum()/len(df))*100\n",
    "missing_values"
   ]
  },
  {
   "cell_type": "code",
   "execution_count": 10,
   "id": "29c65039-b1af-4e30-a7ad-b5d76ccddb9b",
   "metadata": {},
   "outputs": [
    {
     "name": "stderr",
     "output_type": "stream",
     "text": [
      "C:\\Users\\LOQ\\AppData\\Local\\Temp\\ipykernel_5220\\21137076.py:4: FutureWarning: A value is trying to be set on a copy of a DataFrame or Series through chained assignment using an inplace method.\n",
      "The behavior will change in pandas 3.0. This inplace method will never work because the intermediate object on which we are setting values always behaves as a copy.\n",
      "\n",
      "For example, when doing 'df[col].method(value, inplace=True)', try using 'df.method({col: value}, inplace=True)' or df[col] = df[col].method(value) instead, to perform the operation inplace on the original object.\n",
      "\n",
      "\n",
      "  df[column].fillna(df[column].mean(), inplace=True)\n"
     ]
    }
   ],
   "source": [
    "#handle missing values\n",
    "for column in df.columns:\n",
    "    if missing_values[column] >10:\n",
    "        df[column].fillna(df[column].mean(), inplace=True)\n",
    "    else:\n",
    "        df.dropna(subset=[column], inplace=True)\n"
   ]
  },
  {
   "cell_type": "code",
   "execution_count": 11,
   "id": "8ed403d0-f606-497b-96d6-8731b5d13c58",
   "metadata": {},
   "outputs": [
    {
     "name": "stdout",
     "output_type": "stream",
     "text": [
      "Data after processing:\n",
      "    PassengerId  Survived  Pclass   Age  SibSp  Parch     Fare\n",
      "0            1         0       3  22.0      1      0   7.2500\n",
      "1            2         1       1  38.0      1      0  71.2833\n",
      "2            3         1       3  26.0      0      0   7.9250\n",
      "3            4         1       1  35.0      1      0  53.1000\n",
      "4            5         0       3  35.0      0      0   8.0500\n",
      "\n",
      "Missing values after processing:\n",
      " PassengerId    0\n",
      "Survived       0\n",
      "Pclass         0\n",
      "Age            0\n",
      "SibSp          0\n",
      "Parch          0\n",
      "Fare           0\n",
      "dtype: int64\n"
     ]
    }
   ],
   "source": [
    "# Display cleaned data\n",
    "print(\"Data after processing:\\n\", df.head())\n",
    "print(\"\\nMissing values after processing:\\n\", df.isnull().sum())"
   ]
  },
  {
   "cell_type": "markdown",
   "id": "5c85dc0c-8581-4f1e-87e3-c86b76504dbf",
   "metadata": {},
   "source": [
    "Feature Matrix and Label Vector with Train - Test Split:"
   ]
  },
  {
   "cell_type": "code",
   "execution_count": 12,
   "id": "3e2f5d5d-d3e1-41a7-bd9a-df2a10a9a764",
   "metadata": {},
   "outputs": [
    {
     "name": "stdout",
     "output_type": "stream",
     "text": [
      "Shape of X_train: (624, 6)\n",
      "Shape of X_test: (267, 6)\n",
      "Shape of y_train: (624,)\n",
      "Shape of y_test: (267,)\n"
     ]
    }
   ],
   "source": [
    "X = df.drop(columns=['Survived']).values\n",
    "Y = df['Survived'].values\n",
    "def train_test_split(X, Y, test_size=0.3,random_seed=42):\n",
    "    np.random.seed(random_seed)\n",
    "    indices = np.arange(X.shape[0]) #indices = [0, 1, 2, 3, 4, 5, 6, 7, 8, 9] depending acc to the row\n",
    "    np.random.shuffle(indices) #indices (after shuffle) = [8, 2, 5, 9, 1, 6, 3, 0, 7, 4] (The order will be random each time, this is just an example)\n",
    "    test_split_size = int(len(X) * test_size)  # int(10 * 0.3) = 3\n",
    "    test_indices = indices[:test_split_size]\n",
    "    train_indices = indices[test_split_size:]\n",
    "#     Visual:\n",
    "# Based on our shuffled list: [8, 2, 5, 9, 1, 6, 3, 0, 7, 4]\n",
    "# We draw a line after the 3rd item: [8, 2, 5 | 9, 1, 6, 3, 0, 7, 4]\n",
    "# test_indices (for the exam) = [8, 2, 5]\n",
    "# train_indices (for studying) = [9, 1, 6, 3, 0, 7, 4]\n",
    "\n",
    "    X_train, X_test = X[train_indices], X[test_indices]\n",
    "    Y_train, Y_test = Y[train_indices], Y[test_indices]\n",
    "\n",
    "    return X_train, X_test, Y_train, Y_test\n",
    "\n",
    "X_train, X_test, Y_train, Y_test = train_test_split(X, Y, test_size=0.3)\n",
    "# Output shapes to verify\n",
    "print(\"Shape of X_train:\", X_train.shape)\n",
    "print(\"Shape of X_test:\", X_test.shape)\n",
    "print(\"Shape of y_train:\", Y_train.shape)\n",
    "print(\"Shape of y_test:\", Y_test.shape)\n",
    "    "
   ]
  },
  {
   "cell_type": "markdown",
   "id": "9ea09b26-8e5d-43b6-a347-b125697b5448",
   "metadata": {},
   "source": [
    "Step - 2 - Computing Euclidean Distance Metrics:"
   ]
  },
  {
   "cell_type": "code",
   "execution_count": 22,
   "id": "8ef7dd94-ec9f-415e-9a97-5a495b417cb0",
   "metadata": {},
   "outputs": [],
   "source": [
    "def euclidean_distance(point1, point2):\n",
    "    \"\"\"\n",
    "Calculate the Euclidean distance between two points in n-dimensional space.\n",
    "Arguments:\n",
    "point1 : np.ndarray\n",
    "The first point as a numpy array.\n",
    "point2 : np.ndarray\n",
    "The second point as a numpy array.\n",
    "Returns:\n",
    "float\n",
    "The Euclidean distance between the two points.\n",
    "Raises:\n",
    "ValueError: If the input points do not have the same dimensionality.\n",
    "\"\"\"\n",
    "    # Check if the points are of the same dimension\n",
    "    if point1.shape != point2.shape:\n",
    "        raise ValueError(\"point must be of same dimension\")\n",
    "\n",
    "    # Calculate the Euclidean distance\n",
    "    distance = np.sqrt(np.sum((point1 - point2)**2))\n",
    "    \n",
    "    return distance\n",
    "    "
   ]
  },
  {
   "cell_type": "code",
   "execution_count": 23,
   "id": "67b8828d-6cd1-444f-b3ee-fa0db194599c",
   "metadata": {},
   "outputs": [
    {
     "name": "stdout",
     "output_type": "stream",
     "text": [
      "Test passed successfully!\n"
     ]
    }
   ],
   "source": [
    "# Test case for the function\n",
    "try:\n",
    "    # Define two points\n",
    "    point1 = np.array([3, 4])\n",
    "    point2 = np.array([0, 0])\n",
    "    # Calculate the distance\n",
    "    result = euclidean_distance(point1, point2)\n",
    "    # Check if the result matches the expected value (e.g., sqrt(3^2 + 4^2) = 5)\n",
    "    expected_result = 5.0\n",
    "    assert np.isclose(result, expected_result), f\"Expected {expected_result}, but got {result}\"\n",
    "    print(\"Test passed successfully!\")\n",
    "except ValueError as ve:\n",
    "    print(f\"ValueError: {ve}\")\n",
    "except AssertionError as ae:\n",
    "    print(f\"AssertionError: {ae}\")\n",
    "except Exception as e:\n",
    "    print(f\"An unexpected error occurred: {e}\")"
   ]
  },
  {
   "cell_type": "markdown",
   "id": "356c5d5c-3f81-440a-a4bf-c1772f133eb2",
   "metadata": {},
   "source": [
    "Step - 3 - Implementation of core k-NN algorithm:"
   ]
  },
  {
   "cell_type": "code",
   "execution_count": 24,
   "id": "2bdaebea-a06f-491a-ad62-039490499079",
   "metadata": {},
   "outputs": [],
   "source": [
    "def knn_predict_single(query, X_train, Y_train, k=3):\n",
    "    \"\"\"\n",
    "Predict the class label for a single query using the K-nearest neighbors algorithm.\n",
    "Arguments:\n",
    "query : np.ndarray\n",
    "The query point for which the prediction is to be made.\n",
    "X_train : np.ndarray\n",
    "The training feature matrix.\n",
    "y_train : np.ndarray\n",
    "The training labels.\n",
    "k : int, optional\n",
    "The number of nearest neighbors to consider (default is 3).\n",
    "Returns:\n",
    "int\n",
    "The predicted class label for the query.\n",
    "\"\"\"\n",
    "    distances = [euclidean_distance(query, x) for x in X_train]\n",
    "    sorted_indices = np.argsort(distances)\n",
    "    nearest_indices = sorted_indices[:k]\n",
    "    nearest_labels = Y_train[nearest_indices]\n",
    "    prediction = np.bincount(nearest_labels).argmax()\n",
    "    return prediction\n"
   ]
  },
  {
   "cell_type": "code",
   "execution_count": 26,
   "id": "dc0283d5-7584-43ba-a7d4-e40fe1eb67a4",
   "metadata": {},
   "outputs": [],
   "source": [
    "# Function to test KNN for all test samples\n",
    "def knn_predict(X_test, X_train, Y_train, k=3):\n",
    "    \"\"\"\n",
    "Predict the class labels for all test samples using the K-nearest neighbors algorithm.\n",
    "Arguments:\n",
    "X_test : np.ndarray\n",
    "The test feature matrix.\n",
    "X_train : np.ndarray\n",
    "The training feature matrix.\n",
    "y_train : np.ndarray\n",
    "The training labels.\n",
    "k : int, optional\n",
    "The number of nearest neighbors to consider (default is 3).\n",
    "Returns:\n",
    "np.ndarray\n",
    "An array of predicted class labels for the test samples.\n",
    "    \"\"\"\n",
    "    predictions = [knn_predict_single(x, X_train, Y_train, k) for x in X_test]\n",
    "    return predictions\n"
   ]
  },
  {
   "cell_type": "code",
   "execution_count": 42,
   "id": "6c87f9ab-1477-4e93-b36c-51d18b477f54",
   "metadata": {},
   "outputs": [
    {
     "name": "stdout",
     "output_type": "stream",
     "text": [
      "Predictions: [0 1 0 0 0]\n",
      "Actual labels: [1 0 0 1 1]\n",
      "Test case passed successfully!\n"
     ]
    }
   ],
   "source": [
    "try:\n",
    "# Define the test set for the test case\n",
    "    X_test_sample = X_test[:5] # Taking a small subset for testing\n",
    "    y_test_sample = Y_test[:5] # Corresponding labels for the subset\n",
    "    # Make predictions\n",
    "    predictions = knn_predict(X_test_sample, X_train, Y_train, k=3)\n",
    "\n",
    "     # Convert the list of predictions to a NumPy array\n",
    "    predictions = np.array(predictions)\n",
    "    \n",
    "    # Print test results\n",
    "    print(\"Predictions:\", predictions)\n",
    "    print(\"Actual labels:\", y_test_sample)\n",
    "    # Check if predictions match expected format\n",
    "    assert predictions.shape == y_test_sample.shape, \"The shape of predictions does not match the shape of the actual labels.\"\n",
    "    print(\"Test case passed successfully!\")\n",
    "except AssertionError as ae:\n",
    "    print(f\"AssertionError: {ae}\")\n",
    "except Exception as e:\n",
    "    print(f\"An unexpected error occurred: {e}\")"
   ]
  },
  {
   "cell_type": "markdown",
   "id": "09378328-0e10-41c0-9cc9-0cb765933a5c",
   "metadata": {},
   "source": [
    "Step - 4 - Computing Accuracy:"
   ]
  },
  {
   "cell_type": "code",
   "execution_count": 43,
   "id": "5a5f7b86-7ea0-46f2-8b57-b5f1c2205685",
   "metadata": {},
   "outputs": [],
   "source": [
    "# Function to compute accuracy of predictions\n",
    "def compute_accuracy(y_true, y_pred):\n",
    "    \"\"\"\n",
    "Compute the accuracy of predictions.\n",
    "Arguments:\n",
    "y_true : np.ndarray ; The true labels.\n",
    "y_pred : np.ndarray; The predicted labels.\n",
    "Returns:\n",
    "float : The accuracy as a percentage (0 to 100).\n",
    "    \"\"\"\n",
    "    correct_predictions = np.sum(y_true == y_pred)\n",
    "    total_predictions = len(y_true)\n",
    "    accuracy = (correct_predictions / total_predictions) * 100\n",
    "    return accuracy"
   ]
  },
  {
   "cell_type": "code",
   "execution_count": 46,
   "id": "b32c0dcc-4834-4bc1-bbd8-af05ce6b0084",
   "metadata": {},
   "outputs": [
    {
     "name": "stdout",
     "output_type": "stream",
     "text": [
      "Accuracy of the KNN model on the test set: 61.80%\n"
     ]
    }
   ],
   "source": [
    "try:\n",
    "    # Make predictions on the entire test set\n",
    "    predictions = knn_predict(X_test, X_train, Y_train, k=3)\n",
    "    # Compute the accuracy\n",
    "    accuracy = compute_accuracy(Y_test, predictions)\n",
    "    # Print the accuracy\n",
    "    print(f\"Accuracy of the KNN model on the test set: {accuracy:.2f}%\")\n",
    "except Exception as e:\n",
    "    print(f\"An unexpected error occurred during prediction or accuracy computation: {e}\")"
   ]
  },
  {
   "cell_type": "markdown",
   "id": "12f97c17-61fe-456e-86ad-2ebb36231567",
   "metadata": {},
   "source": [
    "Step - 5 - Experiment with different values of k:"
   ]
  },
  {
   "cell_type": "code",
   "execution_count": 38,
   "id": "a0456595-47c1-4488-bb25-1b9dbc2851cf",
   "metadata": {},
   "outputs": [],
   "source": [
    "# Function to test KNN on different values of k and plot the accuracies\n",
    "import matplotlib.pyplot as plt\n",
    "def experiment_knn_k_values(X_train, y_train, X_test, y_test, k_values):\n",
    "    \"\"\"\n",
    "Run KNN predictions for different values of k and plot the accuracies.\n",
    "Arguments:\n",
    "X_train : np.ndarray\n",
    "The training feature matrix.\n",
    "y_train : np.ndarray\n",
    "The training labels.\n",
    "X_test : np.ndarray\n",
    "The test feature matrix.\n",
    "y_test : np.ndarray\n",
    "The test labels.\n",
    "k_values : list of int\n",
    "A list of k values to experiment with.\n",
    "Returns:\n",
    "dict\n",
    "A dictionary with k values as keys and their corresponding accuracies as values.\n",
    "    \"\"\"\n",
    "    accuracies = {}\n",
    "    for k in k_values:\n",
    "    # Make predictions using the current value of k\n",
    "        predictions = knn_predict(X_test, X_train, y_train, k=k)\n",
    "    # Compute the accuracy\n",
    "        accuracy = compute_accuracy(y_test, predictions)\n",
    "        accuracies[k] = accuracy\n",
    "        print(f\"Accuracy for k={k}: {accuracy:.2f}%\")\n",
    "    # Plot the accuracies\n",
    "    plt.figure(figsize=(10, 5))\n",
    "    plt.plot(k_values, list(accuracies.values()), marker='o')\n",
    "    plt.xlabel('k (Number of Neighbors)')\n",
    "    plt.ylabel('Accuracy (%)')\n",
    "    plt.title('Accuracy of KNN with Different Values of k')\n",
    "    plt.grid(True)\n",
    "    plt.show()\n",
    "    return accuracies"
   ]
  },
  {
   "cell_type": "code",
   "execution_count": 41,
   "id": "f48cef16-b438-472d-9f23-7cc9a0c74e59",
   "metadata": {},
   "outputs": [
    {
     "name": "stdout",
     "output_type": "stream",
     "text": [
      "Accuracy for k=1: 58.43%\n",
      "Accuracy for k=2: 62.55%\n",
      "Accuracy for k=3: 61.80%\n",
      "Accuracy for k=4: 63.30%\n",
      "Accuracy for k=5: 64.42%\n",
      "Accuracy for k=6: 64.42%\n",
      "Accuracy for k=7: 65.17%\n",
      "Accuracy for k=8: 64.42%\n",
      "Accuracy for k=9: 65.17%\n",
      "Accuracy for k=10: 64.04%\n",
      "Accuracy for k=11: 64.04%\n",
      "Accuracy for k=12: 64.79%\n",
      "Accuracy for k=13: 64.79%\n",
      "Accuracy for k=14: 65.92%\n",
      "Accuracy for k=15: 65.17%\n",
      "Accuracy for k=16: 65.92%\n",
      "Accuracy for k=17: 66.67%\n",
      "Accuracy for k=18: 66.29%\n",
      "Accuracy for k=19: 67.79%\n",
      "Accuracy for k=20: 64.79%\n"
     ]
    },
    {
     "data": {
      "image/png": "[encoded data removed]",
      "text/plain": [
       "<Figure size 1000x500 with 1 Axes>"
      ]
     },
     "metadata": {},
     "output_type": "display_data"
    },
    {
     "name": "stdout",
     "output_type": "stream",
     "text": [
      "Experiment completed. Check the plot for the accuracy trend.\n"
     ]
    }
   ],
   "source": [
    "# Define the range of k values to experiment with\n",
    "k_values = range(1, 21) # You can adjust this range as needed\n",
    "# Run the experiment\n",
    "try:\n",
    "    accuracies = experiment_knn_k_values(X_train, Y_train, X_test, Y_test, k_values)\n",
    "    print(\"Experiment completed. Check the plot for the accuracy trend.\")\n",
    "except Exception as e:\n",
    "    print(f\"An unexpected error occurred during the experiment: {e}\")"
   ]
  },
  {
   "cell_type": "code",
   "execution_count": null,
   "id": "0d1794e9-32e9-47c3-b2e0-16bb72cb9333",
   "metadata": {},
   "outputs": [],
   "source": []
  }
 ],
 "metadata": {
  "kernelspec": {
   "display_name": "Python 3 (ipykernel)",
   "language": "python",
   "name": "python3"
  },
  "language_info": {
   "codemirror_mode": {
    "name": "ipython",
    "version": 3
   },
   "file_extension": ".py",
   "mimetype": "text/x-python",
   "name": "python",
   "nbconvert_exporter": "python",
   "pygments_lexer": "ipython3",
   "version": "3.13.0"
  }
 },
 "nbformat": 4,
 "nbformat_minor": 5
}
