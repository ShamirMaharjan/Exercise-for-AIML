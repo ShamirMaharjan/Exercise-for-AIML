{
 "cells": [
  {
   "cell_type": "code",
   "execution_count": 7,
   "id": "afebf63e-a290-4fc7-8e9a-c6c078c5e642",
   "metadata": {},
   "outputs": [],
   "source": [
    "text = \"hello my name is Shamir Maharjan. Shamir is 19 years old. Shamir likes coding. Shamir is passionate about AIML.\""
   ]
  },
  {
   "cell_type": "code",
   "execution_count": 38,
   "id": "ef3c60e1-fd5c-4147-8cb3-4f6033b4d5d4",
   "metadata": {},
   "outputs": [
    {
     "name": "stderr",
     "output_type": "stream",
     "text": [
      "[nltk_data] Downloading package punkt to\n",
      "[nltk_data]     C:\\Users\\LOQ\\AppData\\Roaming\\nltk_data...\n",
      "[nltk_data]   Package punkt is already up-to-date!\n",
      "[nltk_data] Downloading package stopwords to\n",
      "[nltk_data]     C:\\Users\\LOQ\\AppData\\Roaming\\nltk_data...\n",
      "[nltk_data]   Package stopwords is already up-to-date!\n",
      "[nltk_data] Downloading package wordnet to\n",
      "[nltk_data]     C:\\Users\\LOQ\\AppData\\Roaming\\nltk_data...\n",
      "[nltk_data]   Package wordnet is already up-to-date!\n",
      "[nltk_data] Downloading package vader_lexicon to\n",
      "[nltk_data]     C:\\Users\\LOQ\\AppData\\Roaming\\nltk_data...\n"
     ]
    },
    {
     "data": {
      "text/plain": [
       "True"
      ]
     },
     "execution_count": 38,
     "metadata": {},
     "output_type": "execute_result"
    }
   ],
   "source": [
    "import nltk\n",
    "nltk.download('punkt')\n",
    "nltk.download('stopwords')\n",
    "nltk.download('wordnet')\n",
    "nltk.download('vader_lexicon')"
   ]
  },
  {
   "cell_type": "code",
   "execution_count": 3,
   "id": "43cebed0-4c8c-4159-91dc-127ddaa9e1e7",
   "metadata": {},
   "outputs": [],
   "source": [
    "from nltk.tokenize import word_tokenize"
   ]
  },
  {
   "cell_type": "code",
   "execution_count": 13,
   "id": "0ef350e9-1dd6-4c27-a035-3d88873e1d7e",
   "metadata": {},
   "outputs": [
    {
     "name": "stdout",
     "output_type": "stream",
     "text": [
      "['hello', 'my', 'name', 'is', 'Shamir', 'Maharjan', '.', 'Shamir', 'is', '19', 'years', 'old', '.', 'Shamir', 'likes', 'coding', '.', 'Shamir', 'is', 'passionate', 'about', 'AIML', '.']\n"
     ]
    }
   ],
   "source": [
    "word_tokenized = (word_tokenize(text))\n",
    "print(word_tokenized)"
   ]
  },
  {
   "cell_type": "code",
   "execution_count": 10,
   "id": "d6153826-0f71-4cc5-848c-7ef38655f5ae",
   "metadata": {},
   "outputs": [],
   "source": [
    "from nltk.tokenize import sent_tokenize"
   ]
  },
  {
   "cell_type": "code",
   "execution_count": 11,
   "id": "79dc25d0-d999-45df-b6ad-947ba0986061",
   "metadata": {},
   "outputs": [
    {
     "name": "stdout",
     "output_type": "stream",
     "text": [
      "['hello my name is Shamir Maharjan.', 'Shamir is 19 years old.', 'Shamir likes coding.', 'Shamir is passionate about AIML.']\n"
     ]
    }
   ],
   "source": [
    "print(sent_tokenize(text))"
   ]
  },
  {
   "cell_type": "code",
   "execution_count": 12,
   "id": "d7070567-15f5-4c5d-99a0-c06288896afb",
   "metadata": {},
   "outputs": [],
   "source": [
    "from nltk.probability import FreqDist"
   ]
  },
  {
   "cell_type": "markdown",
   "id": "a164b24a-faea-46c3-8fdd-533356a2f2ee",
   "metadata": {},
   "source": [
    "The FreqDist class in NLTK (Natural Language Toolkit) is used to calculate and represent the frequency distribution of items in a given collection. \n",
    "    \n",
    "It essentially counts the occurrences of each unique item within a sequence.\n",
    "    \n",
    "Key functionalities and characteristics:\n",
    "\n",
    "Frequency Counting: The primary purpose of FreqDist is to count how many times each distinct item (e.g., words in a text, characters in a string, or any other token) appears in a list or other iterable.\n",
    "\n",
    "Inheritance from Counter: FreqDist inherits from Python's built-in collections.Counter class, meaning it provides similar functionalities for counting hashable objects.\n",
    "\n",
    "Accessing Frequencies: You can access the frequency of a specific item by treating the FreqDist object like a dictionary (e.g., fdist['word']).\n",
    "\n",
    "Common Methods:\n",
    "\n",
    "most_common(n): Returns a list of the n most common items and their frequencies, sorted in descending order.\n",
    "    \n",
    "max(): Returns the item with the highest frequency.\n",
    "    \n",
    "plot(n): Generates a plot of the n most common items and their frequencies.\n",
    "    \n",
    "hapaxes(): Returns a list of items that appear only once (hapax legomena).\n",
    "\n",
    "Applications in NLP: FreqDist is fundamental in natural language processing for tasks such as:\n",
    "                                                                           \n",
    "Analyzing word usage patterns in a corpus.\n",
    "                                                                           \n",
    "Identifying common and rare words.\n",
    "                                                                           \n",
    "Preprocessing text by filtering out very frequent or infrequent words (e.g., stop words).\n",
    "                                                                           \n",
    "Feature extraction for machine learning models."
   ]
  },
  {
   "cell_type": "code",
   "execution_count": 14,
   "id": "5da8e1b3-eb89-48c2-91c7-1a2a065792d7",
   "metadata": {},
   "outputs": [
    {
     "name": "stdout",
     "output_type": "stream",
     "text": [
      "<FreqDist with 15 samples and 23 outcomes>\n"
     ]
    }
   ],
   "source": [
    "fd = FreqDist(word_tokenized)\n",
    "print(fd)"
   ]
  },
  {
   "cell_type": "code",
   "execution_count": 15,
   "id": "fcb6c6b6-b789-48c0-a792-860437223e28",
   "metadata": {},
   "outputs": [
    {
     "name": "stdout",
     "output_type": "stream",
     "text": [
      "[('Shamir', 4), ('.', 4), ('is', 3)]\n"
     ]
    }
   ],
   "source": [
    "print(fd.most_common(3))"
   ]
  },
  {
   "cell_type": "code",
   "execution_count": 16,
   "id": "ab9a4165-dd73-49cd-a19d-5a8e4a9432db",
   "metadata": {},
   "outputs": [],
   "source": [
    "import matplotlib.pyplot as plt"
   ]
  },
  {
   "cell_type": "code",
   "execution_count": 22,
   "id": "6ea7cf8e-c3f6-4c87-b6e5-46fe9cb61ddb",
   "metadata": {},
   "outputs": [
    {
     "data": {
      "image/png": "[encoded data removed]",
      "text/plain": [
       "<Figure size 640x480 with 1 Axes>"
      ]
     },
     "metadata": {},
     "output_type": "display_data"
    }
   ],
   "source": [
    "fd.plot(20, cumulative= False, marker='o')\n",
    "plt.show()"
   ]
  },
  {
   "cell_type": "code",
   "execution_count": 25,
   "id": "29e2367d-f902-4cae-9115-ce426934fd21",
   "metadata": {},
   "outputs": [],
   "source": [
    "from nltk.corpus import stopwords"
   ]
  },
  {
   "cell_type": "code",
   "execution_count": 29,
   "id": "654ce0e8-2051-4643-a9f5-8578eecd7a39",
   "metadata": {},
   "outputs": [
    {
     "name": "stdout",
     "output_type": "stream",
     "text": [
      "{'into', 'that', 'wasn', 'yours', 'above', 'haven', 'of', 'been', 'as', 'shan', 'its', 'in', 'because', 'just', 'am', \"wasn't\", 'y', 'isn', \"needn't\", 'their', 'having', 'not', 'needn', 'an', 'before', 'you', 'mightn', 'too', 'under', 'was', 'him', \"shan't\", 'while', 'your', \"haven't\", 'd', 'aren', 'for', 'off', 'no', 'or', \"you'll\", \"they'd\", \"weren't\", \"don't\", \"they'll\", 'out', 'nor', 'until', 'what', 'have', 'doing', 'once', \"shouldn't\", 'on', 'hers', 'if', 're', 'now', 'will', 'a', 'further', \"that'll\", 'it', 'don', 'ours', 'then', 'these', 'himself', 'by', 'down', \"he's\", \"isn't\", 'again', 'they', 'whom', 'only', 'we', 'herself', 'few', \"couldn't\", 'but', 'won', 'yourselves', \"hasn't\", 'during', 'same', \"i'll\", 'who', 'mustn', 's', \"she'd\", 'do', 'didn', \"didn't\", \"it'll\", 'my', 't', 'itself', \"we'd\", 'theirs', 'them', 'why', 'against', 'more', \"they've\", 'those', 'other', 'below', 'and', 'has', 'there', \"they're\", 'than', 'had', 'weren', \"it'd\", 'wouldn', 'did', 'about', 'over', \"won't\", 'at', 'here', \"i'd\", 'ourselves', 'myself', \"she's\", 'this', 'are', 'being', \"mightn't\", 'all', 'any', 'he', \"wouldn't\", \"we're\", 'can', 'me', 'should', 'up', 've', 'through', 'does', 'themselves', 'hasn', 'so', 'll', \"should've\", \"he'll\", 'his', \"i'm\", 'very', \"you've\", \"aren't\", \"she'll\", \"we'll\", 'how', 'after', \"doesn't\", 'between', \"mustn't\", 'couldn', \"we've\", 'o', 'most', 'm', 'her', 'to', 'hadn', \"hadn't\", \"i've\", 'the', 'yourself', 'which', 'ain', 'i', 'be', 'is', 'she', \"you're\", 'when', \"you'd\", 'some', 'from', 'both', 'our', 'such', \"he'd\", 'shouldn', 'where', 'with', 'were', 'own', \"it's\", 'ma', 'each', 'doesn'}\n"
     ]
    }
   ],
   "source": [
    "stop_words = set(stopwords.words('english'))  # we are keeping stop words in a set becuz stopwords library some words are repeating itself\n",
    "print(stop_words)\n",
    "punctuation = set(['.', ',', '!', '?', ';', ':', '(', ')', '[', ']', '{', '}'])"
   ]
  },
  {
   "cell_type": "code",
   "execution_count": 30,
   "id": "9029de1e-adbe-471f-a083-eb97fe135a88",
   "metadata": {},
   "outputs": [
    {
     "name": "stdout",
     "output_type": "stream",
     "text": [
      "['hello', 'name', 'Shamir', 'Maharjan', 'Shamir', '19', 'years', 'old', 'Shamir', 'likes', 'coding', 'Shamir', 'passionate', 'AIML']\n"
     ]
    }
   ],
   "source": [
    "word_without_stopwords = []\n",
    "\n",
    "for word in word_tokenized:\n",
    "    if word not in stop_words and word not in punctuation:\n",
    "        word_without_stopwords.append(word)\n",
    "\n",
    "print(word_without_stopwords)"
   ]
  },
  {
   "cell_type": "code",
   "execution_count": 32,
   "id": "6d3d5567-2c1a-47ab-af21-b437faf4be56",
   "metadata": {},
   "outputs": [],
   "source": [
    "from nltk.stem import PorterStemmer, WordNetLemmatizer"
   ]
  },
  {
   "cell_type": "markdown",
   "id": "db9d1de0-5b2f-403e-9774-4113efc3e0f3",
   "metadata": {},
   "source": [
    "In NLTK (Natural Language Toolkit), stemmers and lemmatizers are used for word normalization, which means reducing words to their base or root form. \n",
    "\n",
    "This process is crucial in Natural Language Processing (NLP) for tasks like text analysis, information retrieval, and machine learning, as it helps in treating different inflected forms of a word as the same unit.\n",
    "\n",
    "1. Stemmers:\n",
    "   \n",
    "Purpose: Stemmers aim to reduce words to their \"stem\" or root form by removing suffixes and sometimes prefixes, often using heuristic rules.\n",
    "\n",
    "Mechanism: They operate by chopping off the ends of words based on predefined rules, without necessarily considering the word's meaning or grammatical context.\n",
    "\n",
    "Output: The resulting \"stem\" may not always be a valid dictionary word. For example, the Porter Stemmer might reduce \"caring\" to \"car\" or \"easily\" to \"easili.\"\n",
    "\n",
    "Use Cases: Stemming is generally faster and computationally less expensive than lemmatization. It is often used in applications where speed is a priority and a perfect base form is not strictly required, such as in search engines for approximate matching.\n",
    "\n",
    "3. Lemmatizers:\n",
    "   \n",
    "Purpose: Lemmatizers aim to reduce words to their \"lemma,\" which is the dictionary or canonical form of a word.\n",
    "\n",
    "Mechanism: They use linguistic knowledge and dictionaries (like WordNet in NLTK's WordNetLemmatizer) to determine the correct base form, considering the word's part of speech and context.\n",
    "\n",
    "Output: The resulting \"lemma\" is always a valid word. For example, the WordNetLemmatizer would correctly reduce \"caring\" to \"care\" and \"ran\" to \"run.\"\n",
    "\n",
    "Use Cases: Lemmatization is more computationally intensive but provides more accurate and linguistically sound base forms. It is preferred in \n",
    "\n",
    "applications where a deeper understanding of language and context is necessary, such as in chatbots, question-answering systems, or text summarization."
   ]
  },
  {
   "cell_type": "code",
   "execution_count": 33,
   "id": "9dbe4f79-0d6d-4c38-9e0a-f3259b9be069",
   "metadata": {},
   "outputs": [],
   "source": [
    "demowords = ['playing', 'happiness', 'coding', 'programming', 'dancing', 'singing', 'going', 'doing', 'yes', 'no', 'bye', 'best', 'good']"
   ]
  },
  {
   "cell_type": "code",
   "execution_count": 36,
   "id": "ba00ad65-e95d-4496-922c-6681f11874f8",
   "metadata": {},
   "outputs": [
    {
     "name": "stdout",
     "output_type": "stream",
     "text": [
      "playing play play\n",
      "happiness happi happiness\n",
      "coding code cod\n",
      "programming program program\n",
      "dancing danc dance\n",
      "singing sing sing\n",
      "going go go\n",
      "doing do do\n",
      "yes ye yes\n",
      "no no no\n",
      "bye bye bye\n",
      "best best best\n",
      "good good good\n"
     ]
    }
   ],
   "source": [
    "stemmer = PorterStemmer()\n",
    "lemmatizer = WordNetLemmatizer()\n",
    "\n",
    "for word in demowords:\n",
    "    print(word, stemmer.stem(word), lemmatizer.lemmatize(word, 'v'))"
   ]
  },
  {
   "cell_type": "code",
   "execution_count": 37,
   "id": "98e53ef1-7d3d-40da-a4f5-7f41b1fd07ab",
   "metadata": {},
   "outputs": [],
   "source": [
    "from nltk.sentiment import SentimentIntensityAnalyzer"
   ]
  },
  {
   "cell_type": "markdown",
   "id": "788b36f4-625e-4ebb-aa50-9c6a91fa692e",
   "metadata": {},
   "source": [
    "In NLTK, the SentimentIntensityAnalyzer is a class used for performing sentiment analysis, which is the process of determining the emotional tone of a text. It assigns a sentiment score to a given text, ranging from -1 (most negative) to 1 (most positive), allowing you to quickly assess whether the tone is positive, negative, or neutral, according to NLTK. \n",
    "\n",
    "Calculates Polarity Scores: It analyzes the text and provides four sentiment scores: positive, negative, neutral, and a compound score. \n",
    "\n",
    "\n",
    "VADER Lexicon: The analyzer uses a lexicon-based approach, specifically the VADER (Valence Aware Dictionary and sEntiment Reasoner) lexicon, which is a rule-based sentiment analyzer. "
   ]
  },
  {
   "cell_type": "code",
   "execution_count": 48,
   "id": "9b519f61-a401-4d26-82dc-3bc51e43c932",
   "metadata": {},
   "outputs": [
    {
     "name": "stdout",
     "output_type": "stream",
     "text": [
      "{'neg': 0.0, 'neu': 0.684, 'pos': 0.316, 'compound': 0.5719}\n"
     ]
    }
   ],
   "source": [
    "sia =  SentimentIntensityAnalyzer()\n",
    "\n",
    "print(sia.polarity_scores(\"hi my name is shamir maharjan, im happy coding\"))"
   ]
  },
  {
   "cell_type": "code",
   "execution_count": 51,
   "id": "0559b3cc-bab0-49a9-81fa-dcca03dac02c",
   "metadata": {},
   "outputs": [],
   "source": [
    "from nltk.corpus import wordnet"
   ]
  },
  {
   "cell_type": "markdown",
   "id": "ddc909d7-5eff-40d9-92f8-3c8895fcf4e8",
   "metadata": {},
   "source": [
    "Find the meaning of the word"
   ]
  },
  {
   "cell_type": "code",
   "execution_count": 64,
   "id": "808701fe-cea2-4e53-8273-ee34e5f8c512",
   "metadata": {},
   "outputs": [
    {
     "name": "stdout",
     "output_type": "stream",
     "text": [
      "a member of the genus Canis (probably descended from the common wolf) that has been domesticated by man since prehistoric times; occurs in many breeds\n"
     ]
    }
   ],
   "source": [
    "syn = wordnet.synsets('dog')\n",
    "print(syn[0].definition())"
   ]
  },
  {
   "cell_type": "code",
   "execution_count": 66,
   "id": "448bb9c5-10d4-4304-9fda-458ccb2f58a1",
   "metadata": {},
   "outputs": [
    {
     "name": "stdout",
     "output_type": "stream",
     "text": [
      "['work_force', 'workforce', 'manpower', 'hands', 'men', 'man', 'adult_male', 'serviceman', 'military_man', 'man', 'military_personnel', 'man', 'homo', 'man', 'human_being', 'human', 'man', 'man', 'valet', 'valet_de_chambre', 'gentleman', \"gentleman's_gentleman\", 'man', 'man', 'Man', 'Isle_of_Man', 'man', 'piece', 'world', 'human_race', 'humanity', 'humankind', 'human_beings', 'humans', 'mankind', 'man']\n"
     ]
    }
   ],
   "source": [
    "synonyms = []\n",
    "\n",
    "for syn in wordnet.synsets(\"men\"):\n",
    "    for lemma in syn.lemmas():\n",
    "        synonyms.append(lemma.name())\n",
    "\n",
    "print(synonyms)"
   ]
  },
  {
   "cell_type": "code",
   "execution_count": 71,
   "id": "a7c0e660-d98b-4d56-b8e5-bcd13e204eb1",
   "metadata": {},
   "outputs": [
    {
     "name": "stdout",
     "output_type": "stream",
     "text": [
      "['small', 'little', 'small']\n"
     ]
    }
   ],
   "source": [
    "antonyms =[]\n",
    "\n",
    "for syn in wordnet.synsets(\"big\"):\n",
    "    for lemma in syn.lemmas():\n",
    "        if lemma.antonyms():\n",
    "            antonyms.append(lemma.antonyms()[0].name())\n",
    "\n",
    "print(antonyms)"
   ]
  },
  {
   "cell_type": "code",
   "execution_count": null,
   "id": "ea0116ac-409a-4755-8e3f-8459fc3010e0",
   "metadata": {},
   "outputs": [],
   "source": []
  }
 ],
 "metadata": {
  "kernelspec": {
   "display_name": "Python 3 (ipykernel)",
   "language": "python",
   "name": "python3"
  },
  "language_info": {
   "codemirror_mode": {
    "name": "ipython",
    "version": 3
   },
   "file_extension": ".py",
   "mimetype": "text/x-python",
   "name": "python",
   "nbconvert_exporter": "python",
   "pygments_lexer": "ipython3",
   "version": "3.13.0"
  }
 },
 "nbformat": 4,
 "nbformat_minor": 5
}
