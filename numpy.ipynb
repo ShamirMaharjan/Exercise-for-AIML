{
 "cells": [
  {
   "cell_type": "markdown",
   "id": "93fe8e46-a04c-468c-bb50-a6d5c6380b7f",
   "metadata": {},
   "source": [
    "1. Initialize an empty array with size 2X2."
   ]
  },
  {
   "cell_type": "code",
   "execution_count": 2,
   "id": "bf16de1e-23c2-47a5-8529-1bfbd01fe048",
   "metadata": {},
   "outputs": [
    {
     "name": "stdout",
     "output_type": "stream",
     "text": [
      "[[6.23042070e-307 4.67296746e-307]\n",
      " [1.69121096e-306 3.78289378e-307]]\n"
     ]
    }
   ],
   "source": [
    "import numpy as np\n",
    "\n",
    "a = np.empty((2,2))\n",
    "print(a)"
   ]
  },
  {
   "cell_type": "markdown",
   "id": "a54b0873-eb1b-456a-935c-6847f2ec459f",
   "metadata": {},
   "source": [
    "2. Initialize an all one array with size 4X2."
   ]
  },
  {
   "cell_type": "code",
   "execution_count": 4,
   "id": "e3c05fa4-3315-4e13-ab68-0ad56e46e8a7",
   "metadata": {},
   "outputs": [
    {
     "name": "stdout",
     "output_type": "stream",
     "text": [
      "[[1. 1.]\n",
      " [1. 1.]\n",
      " [1. 1.]\n",
      " [1. 1.]]\n"
     ]
    }
   ],
   "source": [
    "one = np.ones((4,2))\n",
    "print(one)"
   ]
  },
  {
   "cell_type": "markdown",
   "id": "296f8ee7-09e7-4af1-b0a1-0c8179f9a77e",
   "metadata": {},
   "source": [
    "3. Return a new array of given shape and type, filled with fill value.{Hint: np.full}"
   ]
  },
  {
   "cell_type": "code",
   "execution_count": 9,
   "id": "08ac90f9-e42a-4367-a2d6-e67b2f6d3c41",
   "metadata": {},
   "outputs": [
    {
     "name": "stdout",
     "output_type": "stream",
     "text": [
      "[[32 32]\n",
      " [32 32]\n",
      " [32 32]\n",
      " [32 32]]\n"
     ]
    }
   ],
   "source": [
    "array = np.full(one.shape, 32)\n",
    "print(array)"
   ]
  },
  {
   "cell_type": "markdown",
   "id": "8d22fe10-efbb-42b2-a909-d680176dd7a0",
   "metadata": {},
   "source": [
    "4. Return a new array of zeros with same shape and type as a given array.{Hint: np.zeros like}"
   ]
  },
  {
   "cell_type": "code",
   "execution_count": 11,
   "id": "4045fe1c-dbb7-48ec-afad-de8c958b0e4a",
   "metadata": {},
   "outputs": [
    {
     "name": "stdout",
     "output_type": "stream",
     "text": [
      "[0 0]\n"
     ]
    }
   ],
   "source": [
    "arr2 = np.zeros_like(one.shape)\n",
    "print(arr2)"
   ]
  },
  {
   "cell_type": "markdown",
   "id": "024d45ec-bc8d-4c65-a2ce-21f3414ab592",
   "metadata": {},
   "source": [
    "Return a new array of ones with same shape and type as a given array.{Hint: np.ones like}"
   ]
  },
  {
   "cell_type": "code",
   "execution_count": 18,
   "id": "2b0abcec-c127-4e61-b257-fb767be2bc48",
   "metadata": {},
   "outputs": [
    {
     "name": "stdout",
     "output_type": "stream",
     "text": [
      "[[1 1]\n",
      " [1 1]]\n"
     ]
    }
   ],
   "source": [
    "arr3 = np.ones_like([[4,2],[2,4]])\n",
    "print(arr3)"
   ]
  },
  {
   "cell_type": "markdown",
   "id": "8c96befd-4982-40b1-b70e-e8ad7eaf15df",
   "metadata": {},
   "source": [
    "6. For an existing list new_list = [1,2,3,4] convert to an numpy array.{Hint: np.array()}"
   ]
  },
  {
   "cell_type": "code",
   "execution_count": 23,
   "id": "96ebf056-f8a1-4935-bab8-89bc12e72e13",
   "metadata": {},
   "outputs": [
    {
     "name": "stdout",
     "output_type": "stream",
     "text": [
      "[1 2 3 4]\n",
      "<class 'numpy.ndarray'>\n"
     ]
    }
   ],
   "source": [
    "new_list = [1,2,3,4]\n",
    "\n",
    "nparray = np.array((new_list))\n",
    "print(nparray)\n",
    "print(type(nparray))"
   ]
  },
  {
   "cell_type": "markdown",
   "id": "bdc528bf-ca57-4db4-a29e-75572b75ee73",
   "metadata": {},
   "source": [
    "4.1.1 Problem - 2: Array Manipulation: Numerical Ranges and Array indexing:"
   ]
  },
  {
   "cell_type": "markdown",
   "id": "79171363-7f28-43ec-906b-7e014a0cdb51",
   "metadata": {},
   "source": [
    "1. Create an array with values ranging from 10 to 49. {Hint:np.arange()}."
   ]
  },
  {
   "cell_type": "code",
   "execution_count": 27,
   "id": "9dc29fd6-60bc-43a5-8920-89f89b9f06d7",
   "metadata": {},
   "outputs": [
    {
     "name": "stdout",
     "output_type": "stream",
     "text": [
      "[10 11 12 13 14 15 16 17 18 19 20 21 22 23 24 25 26 27 28 29 30 31 32 33\n",
      " 34 35 36 37 38 39 40 41 42 43 44 45 46 47 48 49]\n"
     ]
    }
   ],
   "source": [
    "arr = np.arange(10, 50)\n",
    "print(arr)"
   ]
  },
  {
   "cell_type": "markdown",
   "id": "975b6851-544d-4bd2-8fa0-d014f7e86246",
   "metadata": {},
   "source": [
    "2. Create a 3X3 matrix with values ranging from 0 to 8.\n",
    "{Hint:look for np.reshape()}"
   ]
  },
  {
   "cell_type": "code",
   "execution_count": 29,
   "id": "7640b29e-3e8e-4eb1-923a-46e2a5f34a08",
   "metadata": {},
   "outputs": [
    {
     "name": "stdout",
     "output_type": "stream",
     "text": [
      "[[0 1 2]\n",
      " [3 4 5]\n",
      " [6 7 8]]\n"
     ]
    }
   ],
   "source": [
    "arr = np.array([0,1,2,3,4,5,6,7,8])\n",
    "\n",
    "mat = np.reshape(arr, (3,3))\n",
    "print(mat)"
   ]
  },
  {
   "cell_type": "markdown",
   "id": "0fc62fd3-4823-4119-aa5f-e3b312af87fd",
   "metadata": {},
   "source": [
    "3. Create a 3X3 identity matrix.{Hint:np.eye()}"
   ]
  },
  {
   "cell_type": "code",
   "execution_count": 35,
   "id": "518e8c6f-4e00-40ca-b702-b1079f05168d",
   "metadata": {},
   "outputs": [
    {
     "name": "stdout",
     "output_type": "stream",
     "text": [
      "[[1. 0. 0.]\n",
      " [0. 1. 0.]\n",
      " [0. 0. 1.]]\n"
     ]
    }
   ],
   "source": [
    "identity = np.eye(3,3)\n",
    "print(identity)"
   ]
  },
  {
   "cell_type": "markdown",
   "id": "689409e7-2994-45de-a34a-9546683a9ff4",
   "metadata": {},
   "source": [
    "4. Create a random array of size 30 and find the mean of the array.\n",
    "{Hint:check for np.random.random() and array.mean() function}"
   ]
  },
  {
   "cell_type": "code",
   "execution_count": 45,
   "id": "8295b960-6e06-4bab-947a-59c5de19e338",
   "metadata": {},
   "outputs": [
    {
     "name": "stdout",
     "output_type": "stream",
     "text": [
      "[0.51878425 0.12956832 0.72757878 0.95125022 0.40100699 0.58686788\n",
      " 0.69631258 0.10848822 0.41797149 0.01570853 0.4379368  0.42915847\n",
      " 0.76411855 0.44488271 0.82651345 0.92948714 0.44722159 0.71931775\n",
      " 0.17653857 0.64148238 0.81570703 0.52412672 0.10914328 0.63538241\n",
      " 0.20228077 0.08473527 0.23143749 0.90761823 0.26547487 0.24055078]\n",
      "0.47955505075290566\n"
     ]
    }
   ],
   "source": [
    "rand_arry = np.random.random(30)\n",
    "print(rand_arry)\n",
    "mean_rand = rand_arry.mean()\n",
    "print(mean_rand)"
   ]
  },
  {
   "cell_type": "markdown",
   "id": "27698587-1e07-4fc5-b5bc-89ba63788687",
   "metadata": {},
   "source": [
    "5. Create a 10X10 array with random values and find the minimum and maximum values."
   ]
  },
  {
   "cell_type": "code",
   "execution_count": 50,
   "id": "e6e2f2e4-ec08-4884-bfd4-f17c1b8f7e87",
   "metadata": {},
   "outputs": [
    {
     "name": "stdout",
     "output_type": "stream",
     "text": [
      "[[17 97 42  3  2 25 68 12 13  8]\n",
      " [59  0 73 90 90 27  2 76 11 42]\n",
      " [19 25 12 58 73 81 30 71 45 74]\n",
      " [10 95 54 23  8 97 55 95 16 70]\n",
      " [97 91 80 67 28 49 92 96 56 38]\n",
      " [50 38 40 42 60 90 31 69 85  0]\n",
      " [27 98 46 48 91 70 77 28 56 25]\n",
      " [99 28 31 19 29 46 44 46 75 50]\n",
      " [54 82 86  2 73 43 99  4 19 73]\n",
      " [57 20 89 71 20 67 36  7  9  9]]\n",
      "0\n",
      "99\n"
     ]
    }
   ],
   "source": [
    "arr = np.random.randint(100,size=(10,10))\n",
    "print(arr)\n",
    "\n",
    "min_arr = arr.min()\n",
    "max_arr = arr.max()\n",
    "\n",
    "print(min_arr)\n",
    "print(max_arr)"
   ]
  },
  {
   "cell_type": "markdown",
   "id": "fb11459f-af68-4b5a-b90c-c63fe81b4582",
   "metadata": {},
   "source": [
    "6. Create a zero array of size 10 and replace 5th element with 1."
   ]
  },
  {
   "cell_type": "code",
   "execution_count": 55,
   "id": "db0f4607-97ab-484c-9b37-4ceb89e68367",
   "metadata": {},
   "outputs": [
    {
     "name": "stdout",
     "output_type": "stream",
     "text": [
      "[0 1 2 3 4 5 6 7 8 9]\n",
      "[0 1 2 3 1 5 6 7 8 9]\n"
     ]
    }
   ],
   "source": [
    "arr = np.arange(0,10)\n",
    "print(arr)\n",
    "arr[4] = 1\n",
    "print(arr)"
   ]
  },
  {
   "cell_type": "markdown",
   "id": "5b2545c9-3990-47a8-8775-d0e4146487a2",
   "metadata": {},
   "source": [
    "7. Reverse an array arr = [1,2,0,0,4,0]."
   ]
  },
  {
   "cell_type": "code",
   "execution_count": 60,
   "id": "eeb59017-360e-443a-b75d-24ff5a97c55f",
   "metadata": {},
   "outputs": [
    {
     "name": "stdout",
     "output_type": "stream",
     "text": [
      "[0, 4, 0, 0, 2, 1]\n"
     ]
    }
   ],
   "source": [
    "arr = [1,2,0,0,4,0]\n",
    "print(arr[::-1])"
   ]
  },
  {
   "cell_type": "markdown",
   "id": "d588b522-9ad5-4421-8fce-97bff6143d44",
   "metadata": {},
   "source": [
    "8. Create a 2d array with 1 on border and 0 inside."
   ]
  },
  {
   "cell_type": "code",
   "execution_count": 68,
   "id": "95c18aaa-f543-4a27-a8d2-064d054c47cd",
   "metadata": {},
   "outputs": [
    {
     "name": "stdout",
     "output_type": "stream",
     "text": [
      "[[1. 1. 1. 1. 1.]\n",
      " [1. 0. 0. 0. 1.]\n",
      " [1. 0. 0. 0. 1.]\n",
      " [1. 1. 1. 1. 1.]]\n"
     ]
    }
   ],
   "source": [
    "arr = np.ones((4,5))\n",
    "arr[1:-1, 1:-1] = 0\n",
    "print(arr)"
   ]
  },
  {
   "cell_type": "markdown",
   "id": "eecdf032-4657-4dc3-a9af-f4ad69c4b97c",
   "metadata": {},
   "source": [
    "9. Create a 8X8 matrix and fill it with a checkerboard pattern."
   ]
  },
  {
   "cell_type": "code",
   "execution_count": 73,
   "id": "ebac07e6-911f-4104-965a-48198134c04f",
   "metadata": {},
   "outputs": [
    {
     "name": "stdout",
     "output_type": "stream",
     "text": [
      "[[0 1 0 1 0 1 0 1]\n",
      " [1 0 1 0 1 0 1 0]\n",
      " [0 1 0 1 0 1 0 1]\n",
      " [1 0 1 0 1 0 1 0]\n",
      " [0 1 0 1 0 1 0 1]\n",
      " [1 0 1 0 1 0 1 0]\n",
      " [0 1 0 1 0 1 0 1]\n",
      " [1 0 1 0 1 0 1 0]]\n"
     ]
    }
   ],
   "source": [
    "checkerboard = np.zeros((8,8), dtype=int)\n",
    "checkerboard[1::2, ::2] = 1  # Set 1s at odd rows, even columns\n",
    "checkerboard[::2, 1::2] = 1  # Set 1s at even rows, odd columns\n",
    "\n",
    "print(checkerboard)\n",
    "    "
   ]
  },
  {
   "cell_type": "markdown",
   "id": "ff5a72bf-bd72-41a1-aaa9-3d7a1783f6bb",
   "metadata": {},
   "source": [
    "Problem - 3: Array Operations:"
   ]
  },
  {
   "cell_type": "code",
   "execution_count": 91,
   "id": "b3f6a2e6-acf1-4007-91da-9d5a6f4e4ab3",
   "metadata": {},
   "outputs": [],
   "source": [
    "x = np.array([[1,2],[3,5]])\n",
    "y = np.array([[5,6],[7,8]])\n",
    "v = np.array([9,10])\n",
    "w = np.array([11,12])"
   ]
  },
  {
   "cell_type": "markdown",
   "id": "ee392b52-c55f-4d97-bad4-f9734e9f2027",
   "metadata": {},
   "source": [
    "1. Add the two array."
   ]
  },
  {
   "cell_type": "code",
   "execution_count": 77,
   "id": "dc37d046-7ad1-4bcd-bf09-00b7db29959f",
   "metadata": {},
   "outputs": [
    {
     "name": "stdout",
     "output_type": "stream",
     "text": [
      "[[ 6  8]\n",
      " [10 13]]\n",
      "[20 22]\n"
     ]
    }
   ],
   "source": [
    "add_mat = x + y\n",
    "print(add_mat)\n",
    "\n",
    "add_mat2 = v + w\n",
    "print(add_mat2)"
   ]
  },
  {
   "cell_type": "markdown",
   "id": "49ba5530-ad13-44b6-81c0-52110c6ca033",
   "metadata": {},
   "source": [
    "2. Subtract the two array."
   ]
  },
  {
   "cell_type": "code",
   "execution_count": 78,
   "id": "0ec46150-db87-4b88-ae29-f6a2b4aa9109",
   "metadata": {},
   "outputs": [
    {
     "name": "stdout",
     "output_type": "stream",
     "text": [
      "[[-4 -4]\n",
      " [-4 -3]]\n"
     ]
    }
   ],
   "source": [
    "sub_mat = x - y\n",
    "print(sub_mat)"
   ]
  },
  {
   "cell_type": "code",
   "execution_count": 82,
   "id": "4c532395-82b2-4839-a143-c36da6b5885c",
   "metadata": {},
   "outputs": [
    {
     "name": "stdout",
     "output_type": "stream",
     "text": [
      "[[ 3  6]\n",
      " [ 9 15]]\n"
     ]
    }
   ],
   "source": [
    "mul = x*3\n",
    "print(mul)"
   ]
  },
  {
   "cell_type": "markdown",
   "id": "caa63859-a719-4fb4-a530-e52a6fb95475",
   "metadata": {},
   "source": [
    "4. Find the square of each element of the array."
   ]
  },
  {
   "cell_type": "code",
   "execution_count": 84,
   "id": "40b961ea-99d9-4286-81a6-71ef0fd5501e",
   "metadata": {},
   "outputs": [
    {
     "name": "stdout",
     "output_type": "stream",
     "text": [
      "[[ 1  4]\n",
      " [ 9 25]]\n"
     ]
    }
   ],
   "source": [
    "sq = x*x\n",
    "print(sq)"
   ]
  },
  {
   "cell_type": "markdown",
   "id": "16bca9b7-2950-43d9-a21d-58b19c602337",
   "metadata": {},
   "source": [
    "5. Find the dot product between: v(and)w ; x(and)v ; x(and)y."
   ]
  },
  {
   "cell_type": "code",
   "execution_count": 87,
   "id": "eb506183-c51d-4e48-a46a-5609d18ab249",
   "metadata": {},
   "outputs": [
    {
     "name": "stdout",
     "output_type": "stream",
     "text": [
      "[[19 22]\n",
      " [50 58]]\n",
      "[29 77]\n"
     ]
    }
   ],
   "source": [
    "xdoty = np.dot(x,y)\n",
    "print(xdoty)\n",
    "\n",
    "xdotv = np.dot(x,v)\n",
    "print(xdotv)"
   ]
  },
  {
   "cell_type": "markdown",
   "id": "0ca5c0d1-e082-413f-9201-542bc3d4c689",
   "metadata": {},
   "source": [
    "6. Concatenate x(and)y along row and Concatenate v(and)w along column.\n",
    "{Hint:try np.concatenate() or np.vstack() functions."
   ]
  },
  {
   "cell_type": "code",
   "execution_count": 95,
   "id": "d9c22fbc-8358-4d0d-8bab-62c926581aef",
   "metadata": {},
   "outputs": [
    {
     "name": "stdout",
     "output_type": "stream",
     "text": [
      "[ 9 10 11 12]\n",
      "[[1 2]\n",
      " [3 5]\n",
      " [5 6]\n",
      " [7 8]]\n"
     ]
    }
   ],
   "source": [
    "cat = np.concatenate((v,w))\n",
    "print(cat)\n",
    "\n",
    "cat2 = np.vstack((x,y))\n",
    "print(cat2)"
   ]
  },
  {
   "cell_type": "markdown",
   "id": "79f1128b-66f1-4704-a830-e1ecf212d1ed",
   "metadata": {},
   "source": [
    "7. Concatenate x(and)v; if you get an error, observe and explain why did you get the error?"
   ]
  },
  {
   "cell_type": "code",
   "execution_count": 96,
   "id": "8b9859c4-5c0d-4b03-ae85-31b68c9baa03",
   "metadata": {},
   "outputs": [
    {
     "ename": "ValueError",
     "evalue": "all the input arrays must have same number of dimensions, but the array at index 0 has 2 dimension(s) and the array at index 1 has 1 dimension(s)",
     "output_type": "error",
     "traceback": [
      "\u001b[1;31m---------------------------------------------------------------------------\u001b[0m",
      "\u001b[1;31mValueError\u001b[0m                                Traceback (most recent call last)",
      "Cell \u001b[1;32mIn[96], line 1\u001b[0m\n\u001b[1;32m----> 1\u001b[0m cat3 \u001b[38;5;241m=\u001b[39m \u001b[43mnp\u001b[49m\u001b[38;5;241;43m.\u001b[39;49m\u001b[43mhstack\u001b[49m\u001b[43m(\u001b[49m\u001b[43m(\u001b[49m\u001b[43mx\u001b[49m\u001b[43m,\u001b[49m\u001b[43mv\u001b[49m\u001b[43m)\u001b[49m\u001b[43m)\u001b[49m\n",
      "File \u001b[1;32m~\\AppData\\Local\\Programs\\Python\\Python313\\Lib\\site-packages\\numpy\\_core\\shape_base.py:364\u001b[0m, in \u001b[0;36mhstack\u001b[1;34m(tup, dtype, casting)\u001b[0m\n\u001b[0;32m    362\u001b[0m     \u001b[38;5;28;01mreturn\u001b[39;00m _nx\u001b[38;5;241m.\u001b[39mconcatenate(arrs, \u001b[38;5;241m0\u001b[39m, dtype\u001b[38;5;241m=\u001b[39mdtype, casting\u001b[38;5;241m=\u001b[39mcasting)\n\u001b[0;32m    363\u001b[0m \u001b[38;5;28;01melse\u001b[39;00m:\n\u001b[1;32m--> 364\u001b[0m     \u001b[38;5;28;01mreturn\u001b[39;00m \u001b[43m_nx\u001b[49m\u001b[38;5;241;43m.\u001b[39;49m\u001b[43mconcatenate\u001b[49m\u001b[43m(\u001b[49m\u001b[43marrs\u001b[49m\u001b[43m,\u001b[49m\u001b[43m \u001b[49m\u001b[38;5;241;43m1\u001b[39;49m\u001b[43m,\u001b[49m\u001b[43m \u001b[49m\u001b[43mdtype\u001b[49m\u001b[38;5;241;43m=\u001b[39;49m\u001b[43mdtype\u001b[49m\u001b[43m,\u001b[49m\u001b[43m \u001b[49m\u001b[43mcasting\u001b[49m\u001b[38;5;241;43m=\u001b[39;49m\u001b[43mcasting\u001b[49m\u001b[43m)\u001b[49m\n",
      "\u001b[1;31mValueError\u001b[0m: all the input arrays must have same number of dimensions, but the array at index 0 has 2 dimension(s) and the array at index 1 has 1 dimension(s)"
     ]
    }
   ],
   "source": [
    "cat3 = np.hstack((x,v))"
   ]
  },
  {
   "cell_type": "markdown",
   "id": "be472dda-e5f5-4be5-b943-dd2072eb1b71",
   "metadata": {},
   "source": [
    "Problem - 4: Matrix Operations:"
   ]
  },
  {
   "cell_type": "markdown",
   "id": "1e396f2e-f352-4ef1-b0d8-fb1b56523744",
   "metadata": {},
   "source": [
    "For the following arrays:\n",
    "A = np.array([[3,4],[7,8]]) and B = np.array([[5,3],[2,1]]);\n",
    "Prove following with Numpy:\n",
    "1. Prove A.A−1 = I.\n",
    "2. Prove AB ̸= BA.\n",
    "3. Prove (AB)\n",
    "\n",
    "T = BTAT"
   ]
  },
  {
   "cell_type": "code",
   "execution_count": 98,
   "id": "3970e8c9-d7d4-42c2-8248-66880b6d3430",
   "metadata": {},
   "outputs": [],
   "source": [
    "A = np.array([[3,4],[7,8]]) \n",
    "B = np.array([[5,3],[2,1]])"
   ]
  },
  {
   "cell_type": "code",
   "execution_count": 103,
   "id": "552c0fd7-56e1-417b-87e6-70e0931b995e",
   "metadata": {},
   "outputs": [
    {
     "name": "stdout",
     "output_type": "stream",
     "text": [
      "[[-2.    1.  ]\n",
      " [ 1.75 -0.75]]\n",
      "[[1.00000000e+00 0.00000000e+00]\n",
      " [1.77635684e-15 1.00000000e+00]]\n"
     ]
    }
   ],
   "source": [
    "Ainv = np.linalg.inv(A)\n",
    "print(Ainv)\n",
    "\n",
    "axAinv = np.dot(A, Ainv)\n",
    "print(axAinv)"
   ]
  },
  {
   "cell_type": "code",
   "execution_count": 105,
   "id": "a30826e9-dc14-4cfc-8577-cc2a07bdacec",
   "metadata": {},
   "outputs": [
    {
     "name": "stdout",
     "output_type": "stream",
     "text": [
      "[[23 13]\n",
      " [51 29]]\n",
      "[[36 44]\n",
      " [13 16]]\n"
     ]
    }
   ],
   "source": [
    "AB = np.dot(A,B)\n",
    "print(AB)\n",
    "\n",
    "BA = np.dot(B,A)\n",
    "print(BA)"
   ]
  },
  {
   "cell_type": "code",
   "execution_count": 106,
   "id": "0f6d1a4a-9489-43f9-9e0f-7742ef2c3f7a",
   "metadata": {},
   "outputs": [
    {
     "name": "stdout",
     "output_type": "stream",
     "text": [
      "3. (AB)ᵀ = BᵀAᵀ: True\n"
     ]
    }
   ],
   "source": [
    "AB_T = (A @ B).T\n",
    "BTAT = B.T @ A.T\n",
    "print(\"3. (AB)ᵀ = BᵀAᵀ:\", np.array_equal(AB_T, BTAT))"
   ]
  },
  {
   "cell_type": "code",
   "execution_count": null,
   "id": "ea4660b2-7790-43fe-85e3-ac042f24dbe7",
   "metadata": {},
   "outputs": [],
   "source": []
  }
 ],
 "metadata": {
  "kernelspec": {
   "display_name": "Python 3 (ipykernel)",
   "language": "python",
   "name": "python3"
  },
  "language_info": {
   "codemirror_mode": {
    "name": "ipython",
    "version": 3
   },
   "file_extension": ".py",
   "mimetype": "text/x-python",
   "name": "python",
   "nbconvert_exporter": "python",
   "pygments_lexer": "ipython3",
   "version": "3.13.0"
  }
 },
 "nbformat": 4,
 "nbformat_minor": 5
}
